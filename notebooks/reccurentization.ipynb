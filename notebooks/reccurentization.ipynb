{
 "cells": [
  {
   "cell_type": "markdown",
   "metadata": {},
   "source": [
    "# Recurrentization benchmarks\n",
    "\n",
    "This notebooks contains codes to play with recurrentization.\n",
    "\n",
    "The following results are reproduced:\n",
    "1. Figure 5: Layer-wise memory footprint profiling.\n",
    "2. Figure 11 (b): Analytical computation overhead (FLOPS) comparison among the original model,\n",
    "   the patch-to-patch inference model, and the recurrentized model.\n"
   ]
  },
  {
   "cell_type": "markdown",
   "metadata": {},
   "source": [
    "## imports and global utils"
   ]
  },
  {
   "cell_type": "code",
   "execution_count": 2,
   "metadata": {},
   "outputs": [
    {
     "name": "stderr",
     "output_type": "stream",
     "text": [
      "2025-03-17 10:46:45.246167: I tensorflow/core/util/port.cc:113] oneDNN custom operations are on. You may see slightly different numerical results due to floating-point round-off errors from different computation orders. To turn them off, set the environment variable `TF_ENABLE_ONEDNN_OPTS=0`.\n",
      "2025-03-17 10:46:45.267643: E external/local_xla/xla/stream_executor/cuda/cuda_dnn.cc:9261] Unable to register cuDNN factory: Attempting to register factory for plugin cuDNN when one has already been registered\n",
      "2025-03-17 10:46:45.267662: E external/local_xla/xla/stream_executor/cuda/cuda_fft.cc:607] Unable to register cuFFT factory: Attempting to register factory for plugin cuFFT when one has already been registered\n",
      "2025-03-17 10:46:45.268491: E external/local_xla/xla/stream_executor/cuda/cuda_blas.cc:1515] Unable to register cuBLAS factory: Attempting to register factory for plugin cuBLAS when one has already been registered\n",
      "2025-03-17 10:46:45.272549: I tensorflow/core/platform/cpu_feature_guard.cc:182] This TensorFlow binary is optimized to use available CPU instructions in performance-critical operations.\n",
      "To enable the following instructions: AVX2 AVX_VNNI FMA, in other operations, rebuild TensorFlow with the appropriate compiler flags.\n",
      "2025-03-17 10:46:45.663825: W tensorflow/compiler/tf2tensorrt/utils/py_utils.cc:38] TF-TRT Warning: Could not find TensorRT\n"
     ]
    }
   ],
   "source": [
    "%matplotlib inline\n",
    "\n",
    "from pathlib import Path\n",
    "import sys\n",
    "import json\n",
    "\n",
    "import numpy as np\n",
    "import tensorflow as tf\n",
    "\n",
    "import matplotlib.pyplot as plt\n",
    "import matplotlib.patches as mpatches\n",
    "from mpl_toolkits.axes_grid1.inset_locator import inset_axes\n",
    "\n",
    "script_dir = Path.cwd()\n",
    "project_folder = script_dir.parent\n",
    "if str(project_folder) not in sys.path:\n",
    "    sys.path.insert(0, str(project_folder))\n",
    "\n",
    "from src.models.config import ExperimentConfig\n",
    "from src.models.data import single_dataset_factory\n",
    "from src.models.networks import unet_factory\n",
    "from src.optimization import recurrentization, utils"
   ]
  },
  {
   "cell_type": "code",
   "execution_count": null,
   "metadata": {},
   "outputs": [],
   "source": [
    "# for visualization\n",
    "colors_dict = {\n",
    "    \"golden_gate_bridge\": \"#F24C00\",\n",
    "    \"pumpkin\": \"#FC7A1E\",\n",
    "    \"sunset\": \"#F9C784\",\n",
    "    \"platinum\": \"#e7e7e7\",\n",
    "    \"periwinkle\": \"#AEB8FE\",\n",
    "    \"cornflower_blue\": \"#758BFD\",\n",
    "    \"yinmn_blue\": \"#485696\",\n",
    "    \"light_green\": \"#9EE493\",\n",
    "    \"jasper\": \"#DB504A\",\n",
    "}\n",
    "\n",
    "\n",
    "line_linewidth = 0.5\n",
    "\n",
    "bar_width = 0.75\n",
    "bar_linewidth = 0.25"
   ]
  },
  {
   "cell_type": "markdown",
   "metadata": {},
   "source": [
    "## Figure 4: Layer-wise memory profile of the network."
   ]
  },
  {
   "cell_type": "markdown",
   "metadata": {},
   "source": [
    "### To prepare configs, the original model, and model after recurrentization\n",
    "\n",
    "Recurrentization is done at each **level** of the U-Net. We group conv blocks in the same level into one structure to recurrentize. \n",
    "\n",
    "Management of hidden states is not presented in this codebase."
   ]
  },
  {
   "cell_type": "code",
   "execution_count": 2,
   "metadata": {},
   "outputs": [],
   "source": [
    "example_config_path = Path(project_folder, 'configs', 'example_config.json')\n",
    "with open(example_config_path, 'r') as f:\n",
    "    example_config_dict = json.load(f)\n",
    "example_config = ExperimentConfig.load_from_dict(example_config_dict)"
   ]
  },
  {
   "cell_type": "code",
   "execution_count": 3,
   "metadata": {},
   "outputs": [
    {
     "name": "stdout",
     "output_type": "stream",
     "text": [
      "Input shape: (None, 1024, 10, 6)\n"
     ]
    }
   ],
   "source": [
    "# by default, the model input size is (Batch, Uniform Length, #Range Bins, #Antennas * 2)\n",
    "# one can dynamically acquire the input size by construct the dataset object from a certain experiment session using src.models.data.single_dataset_factory and then call the get_output_signature method\n",
    "\n",
    "if example_config.data_folder.exists():\n",
    "    example_dataset = single_dataset_factory(\n",
    "        data_folder=example_config.data_folder,\n",
    "        experiment_name=\"exp-20240513-142441\",\n",
    "        config=example_config.dataset_configs[0],\n",
    "    )\n",
    "    input_shape = (None,) + example_dataset.get_output_signature()[0].shape\n",
    "else:\n",
    "    # if you do not have the dataset downloaded, you can manually specify the input size\n",
    "    input_shape = (None, example_config.dataset_configs[0].uniform_length, 10, 3 * 2)\n",
    "\n",
    "print(f\"Input shape: {input_shape}\")"
   ]
  },
  {
   "cell_type": "code",
   "execution_count": 5,
   "metadata": {},
   "outputs": [
    {
     "name": "stdout",
     "output_type": "stream",
     "text": [
      "Model: \"unet1d_segmenter\"\n",
      "__________________________________________________________________________________________________\n",
      " Layer (type)                Output Shape                 Param #   Connected to                  \n",
      "==================================================================================================\n",
      " input_2 (InputLayer)        [(1, 1024, 10, 6)]           0         []                            \n",
      "                                                                                                  \n",
      " input_sep_conv (SeparableC  (1, 1024, 1, 64)             508       ['input_2[0][0]']             \n",
      " onv2D)                                                                                           \n",
      "                                                                                                  \n",
      " input_rep_conv_act (Activa  (1, 1024, 1, 64)             0         ['input_sep_conv[0][0]']      \n",
      " tion)                                                                                            \n",
      "                                                                                                  \n",
      " input_flatten_reshape (Res  (1, 1024, 64)                0         ['input_rep_conv_act[0][0]']  \n",
      " hape)                                                                                            \n",
      "                                                                                                  \n",
      " input_fc_0 (Dense)          (1, 1024, 64)                4160      ['input_flatten_reshape[0][0]'\n",
      "                                                                    ]                             \n",
      "                                                                                                  \n",
      " input_fc_act_0 (Activation  (1, 1024, 64)                0         ['input_fc_0[0][0]']          \n",
      " )                                                                                                \n",
      "                                                                                                  \n",
      " input_fc_1 (Dense)          (1, 1024, 128)               8320      ['input_fc_act_0[0][0]']      \n",
      "                                                                                                  \n",
      " input_fc_depthwise_1 (Dept  (1, 1024, 128)               256       ['input_fc_1[0][0]']          \n",
      " hwiseConv1D)                                                                                     \n",
      "                                                                                                  \n",
      " input_fc_act_1 (Activation  (1, 1024, 128)               0         ['input_fc_depthwise_1[0][0]']\n",
      " )                                                                                                \n",
      "                                                                                                  \n",
      " input_fc_2 (Dense)          (1, 1024, 64)                8256      ['input_fc_act_1[0][0]']      \n",
      "                                                                                                  \n",
      " input_fc_act_2 (Activation  (1, 1024, 64)                0         ['input_fc_2[0][0]']          \n",
      " )                                                                                                \n",
      "                                                                                                  \n",
      " enc_conv_0_0 (SeparableCon  (1, 1024, 64)                4608      ['input_fc_act_2[0][0]']      \n",
      " v1D)                                                                                             \n",
      "                                                                                                  \n",
      " enc_norm_0_0 (GroupNormali  (1, 1024, 64)                128       ['enc_conv_0_0[0][0]']        \n",
      " zation)                                                                                          \n",
      "                                                                                                  \n",
      " enc_act_0_0 (Activation)    (1, 1024, 64)                0         ['enc_norm_0_0[0][0]']        \n",
      "                                                                                                  \n",
      " enc_pooling_0 (MaxPooling1  (1, 256, 64)                 0         ['enc_act_0_0[0][0]']         \n",
      " D)                                                                                               \n",
      "                                                                                                  \n",
      " enc_conv_1_0 (SeparableCon  (1, 256, 64)                 4480      ['enc_pooling_0[0][0]']       \n",
      " v1D)                                                                                             \n",
      "                                                                                                  \n",
      " enc_norm_1_0 (GroupNormali  (1, 256, 64)                 128       ['enc_conv_1_0[0][0]']        \n",
      " zation)                                                                                          \n",
      "                                                                                                  \n",
      " enc_act_1_0 (Activation)    (1, 256, 64)                 0         ['enc_norm_1_0[0][0]']        \n",
      "                                                                                                  \n",
      " enc_pooling_1 (MaxPooling1  (1, 128, 64)                 0         ['enc_act_1_0[0][0]']         \n",
      " D)                                                                                               \n",
      "                                                                                                  \n",
      " enc_conv_2_0 (SeparableCon  (1, 128, 128)                8512      ['enc_pooling_1[0][0]']       \n",
      " v1D)                                                                                             \n",
      "                                                                                                  \n",
      " enc_norm_2_0 (GroupNormali  (1, 128, 128)                256       ['enc_conv_2_0[0][0]']        \n",
      " zation)                                                                                          \n",
      "                                                                                                  \n",
      " enc_act_2_0 (Activation)    (1, 128, 128)                0         ['enc_norm_2_0[0][0]']        \n",
      "                                                                                                  \n",
      " enc_pooling_2 (MaxPooling1  (1, 64, 128)                 0         ['enc_act_2_0[0][0]']         \n",
      " D)                                                                                               \n",
      "                                                                                                  \n",
      " bottleneck_conv (Separable  (1, 64, 128)                 16896     ['enc_pooling_2[0][0]']       \n",
      " Conv1D)                                                                                          \n",
      "                                                                                                  \n",
      " bottleneck_norm (GroupNorm  (1, 64, 128)                 256       ['bottleneck_conv[0][0]']     \n",
      " alization)                                                                                       \n",
      "                                                                                                  \n",
      " bottleneck_act (Activation  (1, 64, 128)                 0         ['bottleneck_norm[0][0]']     \n",
      " )                                                                                                \n",
      "                                                                                                  \n",
      " dec_upsampling_0 (UpSampli  (1, 128, 128)                0         ['bottleneck_act[0][0]']      \n",
      " ng1D)                                                                                            \n",
      "                                                                                                  \n",
      " enc_skip_conv_2 (Separable  (1, 128, 128)                16640     ['enc_act_2_0[0][0]']         \n",
      " Conv1D)                                                                                          \n",
      "                                                                                                  \n",
      " dec_sc_add_0 (Add)          (1, 128, 128)                0         ['dec_upsampling_0[0][0]',    \n",
      "                                                                     'enc_skip_conv_2[0][0]']     \n",
      "                                                                                                  \n",
      " dec_conv_0_0 (SeparableCon  (1, 128, 128)                16896     ['dec_sc_add_0[0][0]']        \n",
      " v1D)                                                                                             \n",
      "                                                                                                  \n",
      " dec_norm_0_0 (GroupNormali  (1, 128, 128)                256       ['dec_conv_0_0[0][0]']        \n",
      " zation)                                                                                          \n",
      "                                                                                                  \n",
      " dec_act_0_0 (Activation)    (1, 128, 128)                0         ['dec_norm_0_0[0][0]']        \n",
      "                                                                                                  \n",
      " dec_conv_0_1 (SeparableCon  (1, 128, 64)                 8896      ['dec_act_0_0[0][0]']         \n",
      " v1D)                                                                                             \n",
      "                                                                                                  \n",
      " dec_norm_0_1 (GroupNormali  (1, 128, 64)                 128       ['dec_conv_0_1[0][0]']        \n",
      " zation)                                                                                          \n",
      "                                                                                                  \n",
      " dec_act_0_1 (Activation)    (1, 128, 64)                 0         ['dec_norm_0_1[0][0]']        \n",
      "                                                                                                  \n",
      " dec_upsampling_1 (UpSampli  (1, 256, 64)                 0         ['dec_act_0_1[0][0]']         \n",
      " ng1D)                                                                                            \n",
      "                                                                                                  \n",
      " enc_skip_conv_1 (Separable  (1, 256, 64)                 4224      ['enc_act_1_0[0][0]']         \n",
      " Conv1D)                                                                                          \n",
      "                                                                                                  \n",
      " dec_sc_add_1 (Add)          (1, 256, 64)                 0         ['dec_upsampling_1[0][0]',    \n",
      "                                                                     'enc_skip_conv_1[0][0]']     \n",
      "                                                                                                  \n",
      " dec_conv_1_0 (SeparableCon  (1, 256, 64)                 4480      ['dec_sc_add_1[0][0]']        \n",
      " v1D)                                                                                             \n",
      "                                                                                                  \n",
      " dec_norm_1_0 (GroupNormali  (1, 256, 64)                 128       ['dec_conv_1_0[0][0]']        \n",
      " zation)                                                                                          \n",
      "                                                                                                  \n",
      " dec_act_1_0 (Activation)    (1, 256, 64)                 0         ['dec_norm_1_0[0][0]']        \n",
      "                                                                                                  \n",
      " dec_conv_1_1 (SeparableCon  (1, 256, 64)                 4480      ['dec_act_1_0[0][0]']         \n",
      " v1D)                                                                                             \n",
      "                                                                                                  \n",
      " dec_norm_1_1 (GroupNormali  (1, 256, 64)                 128       ['dec_conv_1_1[0][0]']        \n",
      " zation)                                                                                          \n",
      "                                                                                                  \n",
      " dec_act_1_1 (Activation)    (1, 256, 64)                 0         ['dec_norm_1_1[0][0]']        \n",
      "                                                                                                  \n",
      " dec_conv_1_2 (SeparableCon  (1, 256, 32)                 2400      ['dec_act_1_1[0][0]']         \n",
      " v1D)                                                                                             \n",
      "                                                                                                  \n",
      " dec_norm_1_2 (GroupNormali  (1, 256, 32)                 64        ['dec_conv_1_2[0][0]']        \n",
      " zation)                                                                                          \n",
      "                                                                                                  \n",
      " dec_act_1_2 (Activation)    (1, 256, 32)                 0         ['dec_norm_1_2[0][0]']        \n",
      "                                                                                                  \n",
      " dec_upsampling_2 (UpSampli  (1, 1024, 32)                0         ['dec_act_1_2[0][0]']         \n",
      " ng1D)                                                                                            \n",
      "                                                                                                  \n",
      " enc_skip_conv_0 (Separable  (1, 1024, 32)                2144      ['enc_act_0_0[0][0]']         \n",
      " Conv1D)                                                                                          \n",
      "                                                                                                  \n",
      " dec_sc_add_2 (Add)          (1, 1024, 32)                0         ['dec_upsampling_2[0][0]',    \n",
      "                                                                     'enc_skip_conv_0[0][0]']     \n",
      "                                                                                                  \n",
      " dec_conv_2_0 (SeparableCon  (1, 1024, 32)                1280      ['dec_sc_add_2[0][0]']        \n",
      " v1D)                                                                                             \n",
      "                                                                                                  \n",
      " dec_norm_2_0 (GroupNormali  (1, 1024, 32)                64        ['dec_conv_2_0[0][0]']        \n",
      " zation)                                                                                          \n",
      "                                                                                                  \n",
      " dec_act_2_0 (Activation)    (1, 1024, 32)                0         ['dec_norm_2_0[0][0]']        \n",
      "                                                                                                  \n",
      " dec_conv_2_1 (SeparableCon  (1, 1024, 32)                1472      ['dec_act_2_0[0][0]']         \n",
      " v1D)                                                                                             \n",
      "                                                                                                  \n",
      " dec_norm_2_1 (GroupNormali  (1, 1024, 32)                64        ['dec_conv_2_1[0][0]']        \n",
      " zation)                                                                                          \n",
      "                                                                                                  \n",
      " dec_act_2_1 (Activation)    (1, 1024, 32)                0         ['dec_norm_2_1[0][0]']        \n",
      "                                                                                                  \n",
      " score (Conv1D)              (1, 1024, 1)                 33        ['dec_act_2_1[0][0]']         \n",
      "                                                                                                  \n",
      "==================================================================================================\n",
      "Total params: 120541 (470.86 KB)\n",
      "Trainable params: 120541 (470.86 KB)\n",
      "Non-trainable params: 0 (0.00 Byte)\n",
      "__________________________________________________________________________________________________\n"
     ]
    }
   ],
   "source": [
    "full_model = unet_factory(\n",
    "    no_batch_input_shape=input_shape[1:],\n",
    "    model_config=example_config.model_config,\n",
    "    fix_batch_size=True\n",
    ")\n",
    "full_model.summary()"
   ]
  },
  {
   "cell_type": "code",
   "execution_count": 7,
   "metadata": {},
   "outputs": [],
   "source": [
    "input_processing_model, recurrentized_levels, non_recurrentized_model = recurrentization.get_rec_nonrec_models(\n",
    "    no_batch_input_shape=input_shape[1:],\n",
    "    model_config=example_config.model_config,\n",
    "    convert_to_level=2,\n",
    "    lift_to_2d=True,\n",
    "    fix_batch_size=True\n",
    ")"
   ]
  },
  {
   "cell_type": "markdown",
   "metadata": {},
   "source": [
    "### Analytical memory requirements\n",
    "\n",
    "We use the same profiling method as in Lin, Ji, et al. \"Memory-efficient patch-based inference for tiny deep learning.\" Advances in Neural Information Processing Systems 34 (2021): 2346-2358.\n",
    "\n",
    "The required memory of each later is computed as the sum of input and output tensor size. For a layer with multiple inputs, we consider tha sum of memory required for all input branches."
   ]
  },
  {
   "cell_type": "code",
   "execution_count": 8,
   "metadata": {},
   "outputs": [],
   "source": [
    "full_model_layer_memory = [\n",
    "    utils.calculate_layer_memory(layer, unit=\"float32\") for layer in full_model.layers\n",
    "]"
   ]
  },
  {
   "cell_type": "code",
   "execution_count": 9,
   "metadata": {},
   "outputs": [],
   "source": [
    "input_processing_model_layer_memory = [\n",
    "    utils.calculate_layer_memory(layer, unit=\"float32\") for layer in input_processing_model.layers\n",
    "]\n",
    "recurrentized_level_layer_memories = []\n",
    "for level in recurrentized_levels:\n",
    "    recurrentized_level_layer_memories.append(\n",
    "        [utils.calculate_layer_memory(layer, unit=\"float32\") for layer in level.layers if utils.is_include_layer(layer, [\"input\"])]\n",
    "    )\n",
    "\n",
    "non_recurrentized_model_layer_memory = [\n",
    "    utils.calculate_layer_memory(layer, unit=\"float32\") for layer in non_recurrentized_model.layers if utils.is_include_layer(layer, [\"input\"])\n",
    "]"
   ]
  },
  {
   "cell_type": "markdown",
   "metadata": {},
   "source": [
    "### Visualization\n",
    "\n",
    "This is Same code for producing FIgure 4 in the paper."
   ]
  },
  {
   "cell_type": "code",
   "execution_count": null,
   "metadata": {},
   "outputs": [
    {
     "data": {
      "image/png": "[encoded data removed]",
      "text/plain": [
       "<Figure size 1000x300 with 2 Axes>"
      ]
     },
     "metadata": {},
     "output_type": "display_data"
    }
   ],
   "source": [
    "fig, ax = plt.subplots(1, 1, figsize=(10, 3))\n",
    "\n",
    "mem_threshold = 200\n",
    "\n",
    "n_layers_recurrentized = len(input_processing_model_layer_memory) + len(recurrentized_level_layer_memories[0]) + len(recurrentized_level_layer_memories[1])\n",
    "recurrentized_memory = input_processing_model_layer_memory + recurrentized_level_layer_memories[0] + recurrentized_level_layer_memories[1]\n",
    "recurrentized_memory_in_kb = list(map(lambda m: m / 1024, recurrentized_memory))\n",
    "\n",
    "full_model_memory = full_model_layer_memory\n",
    "full_model_memory_in_kb = list(map(lambda m: m / 1024, full_model_memory))\n",
    "n_layers = len(full_model_memory)\n",
    "\n",
    "ax.bar(\n",
    "    range(len(full_model_memory)),\n",
    "    full_model_memory_in_kb,\n",
    "    color=[colors_dict[\"sunset\"] if l < n_layers_recurrentized else colors_dict[\"periwinkle\"] for l in range(n_layers)],\n",
    "    edgecolor=\"black\",\n",
    "    linewidth=bar_linewidth,\n",
    "    width=bar_width,\n",
    ")\n",
    "ax.bar(\n",
    "    range(n_layers_recurrentized),\n",
    "    recurrentized_memory_in_kb,\n",
    "    color=colors_dict[\"platinum\"],\n",
    "    edgecolor=\"black\",\n",
    "    linewidth=bar_linewidth,\n",
    "    width=bar_width,\n",
    ")\n",
    "\n",
    "axins = inset_axes(ax, width=\"35%\", height=\"45%\", loc=\"upper right\")\n",
    "\n",
    "\n",
    "axins.bar(\n",
    "    range(n_layers_recurrentized),\n",
    "    full_model_memory_in_kb[:n_layers_recurrentized],\n",
    "    color=[colors_dict[\"sunset\"] if l < n_layers_recurrentized else colors_dict[\"periwinkle\"] for l in range(n_layers)],\n",
    "    edgecolor=\"black\",\n",
    "    linewidth=bar_linewidth,\n",
    "    width=bar_width,\n",
    ")\n",
    "axins.bar(\n",
    "    range(n_layers_recurrentized),\n",
    "    recurrentized_memory_in_kb,\n",
    "    color=colors_dict[\"platinum\"],\n",
    "    edgecolor=\"black\",\n",
    "    linewidth=bar_linewidth,\n",
    "    width=bar_width,\n",
    ")\n",
    "axins.axhline(np.max(full_model_memory_in_kb), color=\"#020202\", linestyle=\"--\", linewidth=line_linewidth)\n",
    "\n",
    "ax.set_xticks([0, n_layers - 1], [\"1\", f\"{n_layers}\"])\n",
    "ax.set_xlabel(\"Layer index\")\n",
    "ax.xaxis.set_label_coords(0.5, -0.05)\n",
    "ax.set_ylabel(\"Analytic Memory (KB)\")\n",
    "\n",
    "axins.set_xticks([0, n_layers_recurrentized - 1], [\"1\", f\"{n_layers_recurrentized}\"])\n",
    "axins.set_xlabel(\"Layer index\")\n",
    "axins.xaxis.set_label_coords(0.5, -0.1)\n",
    "axins.set_yscale(\"log\")\n",
    "\n",
    "axins.yaxis.set_minor_locator(plt.LogLocator(base=10., subs=np.array([1, 3, 5, 7, 9]) * 0.1, numticks=10))\n",
    "axins.yaxis.set_minor_formatter(plt.NullFormatter())\n",
    "axins.tick_params(axis=\"y\", which=\"minor\", length=1.5, direction=\"in\")\n",
    "\n",
    "axins.annotate(\n",
    "    \"\", \n",
    "    xytext=(np.argmax(recurrentized_memory_in_kb[:n_layers_recurrentized]), np.max(full_model_memory_in_kb[:n_layers_recurrentized])), \n",
    "    xy=(np.argmax(recurrentized_memory_in_kb[:n_layers_recurrentized]), np.max(recurrentized_memory_in_kb)),\n",
    "    arrowprops=dict(arrowstyle=\"|-|,widthA=0.3,widthB=0.3\", color=\"#020202\", linewidth=1, shrinkA=0, shrinkB=0)\n",
    ")\n",
    "axins.text(\n",
    "    np.argmax(recurrentized_memory_in_kb[:n_layers_recurrentized]) + 4, \n",
    "    np.max(full_model_memory_in_kb) - 800,\n",
    "    f\"{np.max(full_model_memory_in_kb) / np.max(recurrentized_memory_in_kb):.1f}$\\\\times$\",\n",
    "    color=\"#020202\", ha=\"left\", va=\"center\"\n",
    ")\n",
    "\n",
    "# Define the legend handles\n",
    "exceeding_patch = mpatches.Patch(facecolor=colors_dict[\"sunset\"], label=\"Before recurrentization\", edgecolor=\"black\", linewidth=bar_linewidth)\n",
    "not_exceeding_patch = mpatches.Patch(facecolor=colors_dict[\"periwinkle\"], label=\"Not recurrentized\", edgecolor=\"black\", linewidth=bar_linewidth)\n",
    "recurrentized_patch = mpatches.Patch(facecolor=colors_dict[\"platinum\"], label=\"Recurrentized\", edgecolor=\"black\", linewidth=bar_linewidth)\n",
    "\n",
    "# Add the legend to axes[0]\n",
    "ax.legend(\n",
    "    handles=[exceeding_patch, not_exceeding_patch, recurrentized_patch],\n",
    "    loc=\"upper right\",  # Adjust the location as needed\n",
    "    frameon=False,  # Removes the legend box\n",
    "    bbox_to_anchor=(0.55, 1),\n",
    ")\n",
    "\n",
    "for ax in [ax, axins]:\n",
    "    ax.tick_params(axis=\"both\", direction=\"in\", which=\"major\", length=2)\n",
    "    ax.spines[[\"top\", \"right\"]].set_visible(False)"
   ]
  },
  {
   "cell_type": "markdown",
   "metadata": {},
   "source": [
    "## Figure 11(b): analytical computation overhead (FLOPS) comparison\n",
    "\n",
    "We only compare analytical results in this notebook as real measurements require an ESP32-S3 MCU."
   ]
  },
  {
   "cell_type": "markdown",
   "metadata": {},
   "source": [
    "### To prepare a patch-to-patch inference model\n",
    "\n",
    "The patch-to-patch inference method do not cache any intermediate results. Therefore the input patch size would be the receptive field of one final output element with respect to the input."
   ]
  },
  {
   "cell_type": "code",
   "execution_count": 12,
   "metadata": {},
   "outputs": [],
   "source": [
    "p2p_model = recurrentization.get_patch_to_patch_model(\n",
    "    no_batch_input_shape=input_shape[1:],\n",
    "    model_config=example_config.model_config,\n",
    "    convert_to_level=2,\n",
    "    lift_to_2d=True,\n",
    "    fix_batch_size=True\n",
    ")"
   ]
  },
  {
   "cell_type": "markdown",
   "metadata": {},
   "source": [
    "### To measure flops\n",
    "\n",
    "FLOPs are returned from the TFLite converter tool.\n",
    "\n",
    "We can see for each element output, it requires 1.636 M ops."
   ]
  },
  {
   "cell_type": "code",
   "execution_count": 13,
   "metadata": {},
   "outputs": [],
   "source": [
    "def tflite_model_conversion(model_to_convert):\n",
    "    def dummy_rep_gen():\n",
    "        if isinstance(model_to_convert.input, dict):\n",
    "            random_inputs = {\n",
    "                k: np.random.rand(100, *v.shape[1:]).astype(np.float32) for k, v in model_to_convert.input.items()\n",
    "            }\n",
    "            for x in tf.data.Dataset.from_tensor_slices(random_inputs).batch(1):\n",
    "                yield x\n",
    "        else:\n",
    "            random_inputs = np.random.rand(100, *model_to_convert.input.shape[1:]).astype(np.float32)\n",
    "            for x in tf.data.Dataset.from_tensor_slices(random_inputs).batch(1):\n",
    "                yield [x]\n",
    "\n",
    "    converter = tf.lite.TFLiteConverter.from_keras_model(model_to_convert)\n",
    "    converter.optimizations = [tf.lite.Optimize.DEFAULT]\n",
    "    converter.representative_dataset = dummy_rep_gen\n",
    "    converter.target_spec.supported_ops = [tf.lite.OpsSet.TFLITE_BUILTINS_INT8]\n",
    "    converter.inference_input_type = tf.uint8\n",
    "    converter.inference_output_type = tf.uint8\n",
    "\n",
    "    tflite_model = converter.convert()\n",
    "    return tflite_model"
   ]
  },
  {
   "cell_type": "code",
   "execution_count": null,
   "metadata": {},
   "outputs": [
    {
     "name": "stdout",
     "output_type": "stream",
     "text": [
      "INFO:tensorflow:Assets written to: /tmp/tmpuyfgjklu/assets\n"
     ]
    },
    {
     "name": "stderr",
     "output_type": "stream",
     "text": [
      "INFO:tensorflow:Assets written to: /tmp/tmpuyfgjklu/assets\n",
      "/home/dongyin/miniconda3/envs/rfeye/lib/python3.9/site-packages/tensorflow/lite/python/convert.py:953: UserWarning: Statistics for quantized inputs were expected, but not specified; continuing anyway.\n",
      "  warnings.warn(\n",
      "2025-01-07 10:55:47.337917: W tensorflow/compiler/mlir/lite/python/tf_tfl_flatbuffer_helpers.cc:378] Ignored output_format.\n",
      "2025-01-07 10:55:47.337931: W tensorflow/compiler/mlir/lite/python/tf_tfl_flatbuffer_helpers.cc:381] Ignored drop_control_dependency.\n",
      "2025-01-07 10:55:47.338238: I tensorflow/cc/saved_model/reader.cc:83] Reading SavedModel from: /tmp/tmpuyfgjklu\n",
      "2025-01-07 10:55:47.340132: I tensorflow/cc/saved_model/reader.cc:51] Reading meta graph with tags { serve }\n",
      "2025-01-07 10:55:47.340144: I tensorflow/cc/saved_model/reader.cc:146] Reading SavedModel debug info (if present) from: /tmp/tmpuyfgjklu\n",
      "2025-01-07 10:55:47.344752: I tensorflow/compiler/mlir/mlir_graph_optimization_pass.cc:388] MLIR V1 optimization pass is not enabled\n",
      "2025-01-07 10:55:47.345784: I tensorflow/cc/saved_model/loader.cc:233] Restoring SavedModel bundle.\n",
      "2025-01-07 10:55:47.381705: I tensorflow/cc/saved_model/loader.cc:217] Running initialization op on SavedModel bundle at path: /tmp/tmpuyfgjklu\n",
      "2025-01-07 10:55:47.394413: I tensorflow/cc/saved_model/loader.cc:316] SavedModel load for tags { serve }; Status: success: OK. Took 56175 microseconds.\n",
      "2025-01-07 10:55:47.416804: I tensorflow/compiler/mlir/tensorflow/utils/dump_mlir_util.cc:269] disabling MLIR crash reproducer, set env var `MLIR_CRASH_REPRODUCER_DIRECTORY` to enable.\n",
      "Summary on the non-converted ops:\n",
      "---------------------------------\n",
      " * Accepted dialects: tfl, builtin, func\n",
      " * Non-Converted Ops: 31, Total Ops 83, % non-converted = 37.35 %\n",
      " * 31 ARITH ops\n",
      "\n",
      "- arith.constant:   31 occurrences  (f32: 22, i32: 9)\n",
      "\n",
      "\n",
      "\n",
      "  (f32: 4)\n",
      "  (f32: 5)\n",
      "  (f32: 6)\n",
      "  (f32: 4)\n",
      "  (f32: 3)\n",
      "  (f32: 2)\n",
      "  (f32: 4)\n",
      "\n",
      "  (f32: 8)\n",
      "  (f32: 2)\n",
      "  (f32: 2)\n",
      "  (f32: 4)\n",
      "  (f32: 4)\n",
      "2025-01-07 10:55:47.463846: I tensorflow/compiler/mlir/lite/flatbuffer_export.cc:2989] Estimated count of arithmetic ops: 1.636 M  ops, equivalently 0.818 M  MACs\n",
      "fully_quantize: 0, inference_type: 6, input_inference_type: UINT8, output_inference_type: UINT8\n",
      "2025-01-07 10:55:47.521381: I tensorflow/compiler/mlir/lite/flatbuffer_export.cc:2989] Estimated count of arithmetic ops: 1.636 M  ops, equivalently 0.818 M  MACs\n"
     ]
    }
   ],
   "source": [
    "# this cell outputs the number of ops and the final few lines of outputs\n",
    "_ = tflite_model_conversion(p2p_model)"
   ]
  },
  {
   "cell_type": "code",
   "execution_count": null,
   "metadata": {},
   "outputs": [],
   "source": [
    "# similarly, we can measure #OPs of other models\n",
    "_ = tflite_model_conversion(full_model)"
   ]
  },
  {
   "cell_type": "code",
   "execution_count": null,
   "metadata": {},
   "outputs": [],
   "source": [
    "_ = tflite_model_conversion(input_processing_model)"
   ]
  },
  {
   "cell_type": "code",
   "execution_count": null,
   "metadata": {},
   "outputs": [],
   "source": [
    "_ = tflite_model_conversion(recurrentized_levels[0])"
   ]
  },
  {
   "cell_type": "code",
   "execution_count": null,
   "metadata": {},
   "outputs": [],
   "source": [
    "_ = tflite_model_conversion(recurrentized_levels[1])"
   ]
  },
  {
   "cell_type": "markdown",
   "metadata": {},
   "source": [
    "### Visualization\n",
    "\n",
    "The #OPs are directly documented here for simplicity."
   ]
  },
  {
   "cell_type": "code",
   "execution_count": 1,
   "metadata": {},
   "outputs": [],
   "source": [
    "# units: M Ops.\n",
    "full_model_ops = 89.075\n",
    "\n",
    "input_processing_model_ops = 0.042\n",
    "level_0_ops = 0.111\n",
    "level_1_ops = 0.036\n",
    "remaining_model_ops = 27.349\n",
    "\n",
    "p2p_model_ops = 1.636"
   ]
  },
  {
   "cell_type": "code",
   "execution_count": 3,
   "metadata": {},
   "outputs": [],
   "source": [
    "# to achieve the same output, input processing model needs to process 1024 times (it is broken down to per-frame operation).\n",
    "# level 0 and level 1 needs to process 129 times. The padding operation requires the additional 1 more time.\n",
    "rec_model_total_ops = input_processing_model_ops * 1024 + (level_0_ops + level_1_ops) * 129 + remaining_model_ops\n",
    "\n",
    "# to achieve the same output, p2p model needs to process 128 times.\n",
    "p2p_model_total_ops = p2p_model_ops * 128"
   ]
  },
  {
   "cell_type": "code",
   "execution_count": 12,
   "metadata": {},
   "outputs": [
    {
     "data": {
      "image/png": "[encoded data removed]",
      "text/plain": [
       "<Figure size 1000x300 with 1 Axes>"
      ]
     },
     "metadata": {},
     "output_type": "display_data"
    }
   ],
   "source": [
    "fig, ax = plt.subplots(1, 1, figsize=(10, 3))\n",
    "\n",
    "ax.barh(\n",
    "    [\"Full model\", \"Recurrentized model\", \"Patch-to-patch model\"],\n",
    "    [full_model_ops, rec_model_total_ops, p2p_model_total_ops],\n",
    "    color=[colors_dict[\"sunset\"], colors_dict[\"periwinkle\"], colors_dict[\"platinum\"]],\n",
    "    edgecolor=\"black\",\n",
    "    linewidth=bar_linewidth,\n",
    ")\n",
    "\n",
    "# add text annotation\n",
    "for i, ops in enumerate([full_model_ops, rec_model_total_ops, p2p_model_total_ops]):\n",
    "    ax.text(ops - 5, i, f\"{ops:.1f}\", va=\"center\", ha=\"right\")\n",
    "\n",
    "# add arrow annotation\n",
    "ax.annotate(\n",
    "    \"\", \n",
    "    xytext=(rec_model_total_ops, 1 - 0.25), \n",
    "    xy=(full_model_ops, 1 - 0.25),\n",
    "    arrowprops=dict(arrowstyle=\"|-|,widthA=0.3,widthB=0.3\", color=\"#020202\", linewidth=3, shrinkA=0, shrinkB=0)\n",
    ")\n",
    "rec_to_full_increment_in_percentage = (full_model_ops - rec_model_total_ops) / rec_model_total_ops * 100\n",
    "ax.text(\n",
    "    (rec_model_total_ops + full_model_ops) / 2, 1 - 0.25, f\"{rec_to_full_increment_in_percentage:.1f}% $\\\\uparrow$\", color=\"#020202\", ha=\"left\", va=\"center\"\n",
    ")\n",
    "ax.annotate(\n",
    "    \"\", \n",
    "    xytext=(p2p_model_total_ops, 1 + 0.25), \n",
    "    xy=(full_model_ops, 1 + 0.25),\n",
    "    arrowprops=dict(arrowstyle=\"|-|,widthA=0.3,widthB=0.3\", color=\"#020202\", linewidth=3, shrinkA=0, shrinkB=0)\n",
    ")\n",
    "rec_to_p2p_decrement_in_percentage = (rec_model_total_ops - p2p_model_total_ops) / p2p_model_total_ops * 100\n",
    "ax.text(\n",
    "    (p2p_model_total_ops + full_model_ops) / 2, 1, f\"{rec_to_p2p_decrement_in_percentage:.1f}% $\\\\downarrow$\", color=\"#020202\", ha=\"left\", va=\"center\"\n",
    ")\n",
    "\n",
    "ax.set_xlabel(\"Analytic Operations (M Ops.)\")\n",
    "\n",
    "ax.tick_params(axis=\"both\", direction=\"in\", which=\"major\", length=2)\n",
    "ax.spines[[\"top\", \"right\"]].set_visible(False)"
   ]
  }
 ],
 "metadata": {
  "kernelspec": {
   "display_name": "blinkwise",
   "language": "python",
   "name": "python3"
  },
  "language_info": {
   "codemirror_mode": {
    "name": "ipython",
    "version": 3
   },
   "file_extension": ".py",
   "mimetype": "text/x-python",
   "name": "python",
   "nbconvert_exporter": "python",
   "pygments_lexer": "ipython3",
   "version": "3.9.21"
  }
 },
 "nbformat": 4,
 "nbformat_minor": 2
}
